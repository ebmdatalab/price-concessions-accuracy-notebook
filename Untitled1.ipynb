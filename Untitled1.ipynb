{
 "cells": [
  {
   "cell_type": "code",
   "execution_count": 76,
   "metadata": {},
   "outputs": [],
   "source": [
    "import pandas as pd\n",
    "import lxml\n",
    "url = 'https://www.nhsbsa.nhs.uk/prescription-data/understanding-our-data/financial-forecasting'\n",
    "dfs = pd.read_html(url,match='National Average Discount Percentage')\n",
    "nadp = []\n",
    "for i in range(len(dfs)):\n",
    "    nadp.append(dfs[i])\n",
    "nadp = pd.concat(nadp)\n"
   ]
  },
  {
   "cell_type": "code",
   "execution_count": 77,
   "metadata": {},
   "outputs": [
    {
     "name": "stdout",
     "output_type": "stream",
     "text": [
      "   Used for Reports in  National Average Discount Percentage\n",
      "0               May 23                                  5.83\n",
      "1               Apr 23                                  5.87\n",
      "0               Mar 23                                  6.26\n",
      "1               Feb 23                                  6.25\n",
      "2               Jan 23                                  6.31\n",
      "..                 ...                                   ...\n",
      "7               Aug 14                                  7.58\n",
      "8               Jul 14                                  7.52\n",
      "9               Jun 14                                  7.65\n",
      "10              May 14                                  7.58\n",
      "11              Apr 14                                  7.66\n",
      "\n",
      "[110 rows x 2 columns]\n"
     ]
    }
   ],
   "source": [
    "print(nadp)"
   ]
  }
 ],
 "metadata": {
  "jupytext": {
   "cell_metadata_filter": "all",
   "notebook_metadata_filter": "all,-language_info",
   "text_representation": {
    "extension": ".py",
    "format_name": "light",
    "format_version": "1.5",
    "jupytext_version": "1.3.3"
   }
  },
  "kernelspec": {
   "display_name": "Python 3",
   "language": "python",
   "name": "python3"
  },
  "language_info": {
   "codemirror_mode": {
    "name": "ipython",
    "version": 3
   },
   "file_extension": ".py",
   "mimetype": "text/x-python",
   "name": "python",
   "nbconvert_exporter": "python",
   "pygments_lexer": "ipython3",
   "version": "3.8.1"
  }
 },
 "nbformat": 4,
 "nbformat_minor": 4
}
