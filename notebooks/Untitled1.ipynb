{
 "cells": [
  {
   "cell_type": "code",
   "execution_count": null,
   "metadata": {},
   "outputs": [],
   "source": [
    "import os\n",
    "import pandas as pd\n",
    "import numpy as np\n",
    "#import matplotlib\n",
    "import matplotlib.pyplot as plt\n",
    "from matplotlib.dates import DateFormatter\n",
    "import matplotlib.ticker as ticker\n",
    "import matplotlib.dates as mdates\n",
    "#import seaborn as sns\n",
    "#from matplotlib.dates import  DateFormatter\n",
    "%matplotlib inline\n",
    "from ebmdatalab import bq\n",
    "from ebmdatalab import charts\n",
    "#from ebmdatalab import maps\n",
    "#import datetime as dt"
   ]
  },
  {
   "cell_type": "markdown",
   "metadata": {},
   "source": [
    "**TEST DATA**"
   ]
  },
  {
   "cell_type": "code",
   "execution_count": null,
   "metadata": {},
   "outputs": [],
   "source": [
    "# import data from original query https://stackoverflow.com/questions/26911851/how-to-use-pandas-to-find-consecutive-same-data-in-time-series\n",
    "importfile = os.path.join(\"..\",\"data\",\"test_cons_5.csv\") #defines name for cache file\n",
    "syn_df = pd.read_csv(importfile)\n",
    "syn_df['month'] = pd.to_datetime(syn_df['month'])\n",
    "syn_df.style"
   ]
  },
  {
   "cell_type": "code",
   "execution_count": null,
   "metadata": {},
   "outputs": [],
   "source": []
  },
  {
   "cell_type": "code",
   "execution_count": null,
   "metadata": {},
   "outputs": [],
   "source": []
  },
  {
   "cell_type": "code",
   "execution_count": null,
   "metadata": {},
   "outputs": [],
   "source": [
    "syn_big_df = syn_df.set_index(['month', 'vmpp']).unstack().asfreq('MS').fillna(0).stack().sort_index(level=1).reset_index()"
   ]
  },
  {
   "cell_type": "code",
   "execution_count": null,
   "metadata": {},
   "outputs": [],
   "source": []
  },
  {
   "cell_type": "code",
   "execution_count": null,
   "metadata": {},
   "outputs": [],
   "source": []
  },
  {
   "cell_type": "code",
   "execution_count": null,
   "metadata": {},
   "outputs": [],
   "source": [
    "con_months_df = (syn_big_df.assign(Consecutive=syn_big_df.concession_bool\n",
    "                                .groupby((syn_big_df.concession_bool != syn_big_df.concession_bool.shift())\n",
    "                                         .cumsum())\n",
    "                                .transform('size'))\n",
    "          .query('Consecutive > 1')\n",
    "          .groupby('Consecutive')\n",
    "          .aggregate(vmpp=('vmpp','first'),\n",
    "                     first_month=('month','first'), \n",
    "                     last_month=('month','last'),\n",
    "                     bool_total=('concession_bool','sum'))\n",
    "          .reset_index()\n",
    ")\n",
    "\n",
    "#con_months_df.columns = [t[1] if t[1] else t[0] for t in con_months_df.columns]\n",
    "con_months_df\n"
   ]
  },
  {
   "cell_type": "markdown",
   "metadata": {},
   "source": [
    "** PRICE CONCESSION DATA **"
   ]
  },
  {
   "cell_type": "code",
   "execution_count": null,
   "metadata": {},
   "outputs": [],
   "source": [
    "sql = \"\"\"\n",
    "  SELECT DISTINCT\n",
    "    ncso.vmpp AS vmpp,\n",
    "    ncso.date AS month,    \n",
    "    1 AS concession_bool\n",
    "  FROM\n",
    "    ebmdatalab.dmd.ncsoconcession AS ncso --concession table\n",
    "\"\"\"\n",
    "\n",
    "exportfile = os.path.join(\"..\",\"data\",\"ncso_dates.csv\") #defines name for cache file\n",
    "dates_df = bq.cached_read(sql, csv_path=exportfile, use_cache=True) #uses BQ if changed, otherwise csv cache file\n",
    "dates_df['month'] = pd.to_datetime(dates_df['month'])#ensure dates are in datetimeformat"
   ]
  },
  {
   "cell_type": "code",
   "execution_count": null,
   "metadata": {},
   "outputs": [],
   "source": [
    "dates_df = dates_df.sort_values(by=['month','vmpp'])"
   ]
  },
  {
   "cell_type": "code",
   "execution_count": null,
   "metadata": {},
   "outputs": [],
   "source": [
    "#dates_cons_df = dates_df.set_index(['month', 'vmpp']).unstack().asfreq('MS', fill_value=0).stack().sort_index(level=1).reset_index()"
   ]
  },
  {
   "cell_type": "code",
   "execution_count": null,
   "metadata": {},
   "outputs": [],
   "source": [
    "#dates_cons_df = dates_df.set_index(['month', 'vmpp']).unstack().asfreq('MS', fill_value=0)\n",
    "dates_cons_df = dates_df.set_index(['month', 'vmpp']).unstack().asfreq('MS').fillna(0).stack().sort_index(level=1).reset_index()"
   ]
  },
  {
   "cell_type": "code",
   "execution_count": null,
   "metadata": {},
   "outputs": [],
   "source": [
    "dates_cons_df.head()"
   ]
  },
  {
   "cell_type": "code",
   "execution_count": null,
   "metadata": {
    "lines_to_next_cell": 0
   },
   "outputs": [],
   "source": [
    "con_months_df = (dates_cons_df.assign(Consecutive=dates_cons_df.concession_bool\n",
    "                                .groupby(('dates_cons_df.concession_bool != dates_cons_df.concession_bool.shift())\n",
    "                                         .cumsum())\n",
    "                                .transform('size'))\n",
    "          .query('Consecutive > 1')\n",
    "          .groupby('Consecutive')\n",
    "          .aggregate(vmpp=('vmpp','first'),\n",
    "                     first_month=('month','first'), \n",
    "                     last_month=('month','last'),\n",
    "                     bool_total=('concession_bool','sum'))\n",
    "          .reset_index()\n",
    ")\n",
    "\n",
    "#con_months_df.columns = [t[1] if t[1] else t[0] for t in con_months_df.columns]\n",
    "con_months_df.style"
   ]
  },
  {
   "cell_type": "code",
   "execution_count": null,
   "metadata": {
    "lines_to_next_cell": 0
   },
   "outputs": [],
   "source": [
    "dates_df.head()"
   ]
  },
  {
   "cell_type": "code",
   "execution_count": null,
   "metadata": {},
   "outputs": [],
   "source": []
  },
  {
   "cell_type": "code",
   "execution_count": null,
   "metadata": {},
   "outputs": [],
   "source": [
    "con_months_df = dates_cons_df.query('concession_bool >0')\n",
    "\n",
    "#con_months_df[\"new_date\"] = con_months_df.month + pd.offsets.MonthOffset(-1)\n",
    "#con_months_df =  con_months_df[con_months_df['concession_bool']!=0]\n",
    "\n",
    "#on_months_df.groupby(['vmpp', 'Consecutive']).agg(first_month=('month','first'),last_month=('month','last'))\n",
    "#aggregate(vmpp=('vmpp','first'),first_month=('month','first'),last_month=('month','last'),bool_total=('concession_bool','sum')).reset_index()\n"
   ]
  },
  {
   "cell_type": "code",
   "execution_count": null,
   "metadata": {},
   "outputs": [],
   "source": [
    "con_months_df = (dates_cons_df.assign(Consecutive=dates_cons_df.concession_bool\n",
    "                                .groupby((dates_cons_df.concession_bool != dates_cons_df.concession_bool.shift())\n",
    "                                         .cumsum()\n",
    "                                .transform('size'))).query('concession_bool >0')\n",
    "#con_months_df =  con_months_df[con_months_df['concession_bool']!=0]\n",
    "\n",
    "#on_months_df.groupby(['vmpp', 'Consecutive']).agg(first_month=('month','first'),last_month=('month','last'))\n",
    "#aggregate(vmpp=('vmpp','first'),first_month=('month','first'),last_month=('month','last'),bool_total=('concession_bool','sum')).reset_index()\n"
   ]
  },
  {
   "cell_type": "code",
   "execution_count": null,
   "metadata": {},
   "outputs": [],
   "source": [
    "con_months_df[\"in_vle\"] = con_months_df.index"
   ]
  },
  {
   "cell_type": "code",
   "execution_count": null,
   "metadata": {},
   "outputs": [],
   "source": [
    "con_months_df[\"grouping\"] = con_months_df.groupby(dates_cons_df.concession_bool != dates_cons_df.concession_bool.shift()).cumsum().add(1)"
   ]
  },
  {
   "cell_type": "code",
   "execution_count": null,
   "metadata": {},
   "outputs": [],
   "source": [
    "hi = con_months_df.groupby('vmpp')"
   ]
  },
  {
   "cell_type": "code",
   "execution_count": null,
   "metadata": {},
   "outputs": [],
   "source": [
    "con_months_df.head(200)"
   ]
  },
  {
   "cell_type": "code",
   "execution_count": null,
   "metadata": {},
   "outputs": [],
   "source": []
  },
  {
   "cell_type": "code",
   "execution_count": null,
   "metadata": {
    "lines_to_next_cell": 2
   },
   "outputs": [],
   "source": [
    "dates_cons_df.style"
   ]
  },
  {
   "cell_type": "code",
   "execution_count": null,
   "metadata": {},
   "outputs": [],
   "source": [
    "rslt = (dates_cons_df.assign(Consecutive=dates_cons_df.concession_bool\n",
    "                                .groupby((dates_cons_df.concession_bool != dates_cons_df.concession_bool.shift())\n",
    "                                         .cumsum())\n",
    "                                .transform('size'))\n",
    "          .query('concession_bool > 0')\n",
    "          .groupby(['vmpp','Consecutive'])\n",
    "          .aggregate(first_month=('month','first'), \n",
    "                     last_month=('month','last'))\n",
    "          .reset_index().query(\"last_month < '2022-09-01'\")\n",
    ")\n",
    "rslt"
   ]
  },
  {
   "cell_type": "code",
   "execution_count": null,
   "metadata": {},
   "outputs": [],
   "source": []
  },
  {
   "cell_type": "code",
   "execution_count": null,
   "metadata": {},
   "outputs": [],
   "source": []
  },
  {
   "cell_type": "code",
   "execution_count": null,
   "metadata": {},
   "outputs": [],
   "source": []
  },
  {
   "cell_type": "code",
   "execution_count": null,
   "metadata": {},
   "outputs": [],
   "source": []
  },
  {
   "cell_type": "code",
   "execution_count": null,
   "metadata": {},
   "outputs": [],
   "source": []
  },
  {
   "cell_type": "code",
   "execution_count": null,
   "metadata": {},
   "outputs": [],
   "source": []
  },
  {
   "cell_type": "code",
   "execution_count": null,
   "metadata": {},
   "outputs": [],
   "source": []
  },
  {
   "cell_type": "code",
   "execution_count": null,
   "metadata": {},
   "outputs": [],
   "source": []
  },
  {
   "cell_type": "code",
   "execution_count": null,
   "metadata": {},
   "outputs": [],
   "source": []
  },
  {
   "cell_type": "code",
   "execution_count": null,
   "metadata": {},
   "outputs": [],
   "source": []
  },
  {
   "cell_type": "code",
   "execution_count": null,
   "metadata": {},
   "outputs": [],
   "source": [
    "rslt.style"
   ]
  },
  {
   "cell_type": "code",
   "execution_count": null,
   "metadata": {},
   "outputs": [],
   "source": []
  },
  {
   "cell_type": "code",
   "execution_count": null,
   "metadata": {},
   "outputs": [],
   "source": []
  },
  {
   "cell_type": "code",
   "execution_count": null,
   "metadata": {},
   "outputs": [],
   "source": []
  },
  {
   "cell_type": "code",
   "execution_count": null,
   "metadata": {},
   "outputs": [],
   "source": []
  },
  {
   "cell_type": "code",
   "execution_count": null,
   "metadata": {},
   "outputs": [],
   "source": []
  },
  {
   "cell_type": "code",
   "execution_count": null,
   "metadata": {},
   "outputs": [],
   "source": [
    "select * from `ebmdatalab.dmd.tariffprice`"
   ]
  },
  {
   "cell_type": "code",
   "execution_count": null,
   "metadata": {},
   "outputs": [],
   "source": [
    "sql = \"\"\"\n",
    "  SELECT *\n",
    "\n",
    "  FROM\n",
    "    ebmdatalab.dmd.tariffprice\n",
    "\"\"\"\n",
    "\n",
    "exportfile = os.path.join(\"..\",\"data\",\"tariff.csv\") #defines name for cache file\n",
    "dates_df = bq.cached_read(sql, csv_path=exportfile, use_cache=True) #uses BQ if changed, otherwise csv cache file\n",
    "dates_df['date'] = pd.to_datetime(dates_df['date'])#ensure dates are in datetimeformat"
   ]
  },
  {
   "cell_type": "code",
   "execution_count": null,
   "metadata": {},
   "outputs": [],
   "source": [
    "dates_df.head()"
   ]
  },
  {
   "cell_type": "code",
   "execution_count": null,
   "metadata": {},
   "outputs": [],
   "source": [
    "dates_df['pre_month'] = dates_df['date'] + pd.DateOffset(months=1)\n",
    "dates_df['post_month'] = dates_df['date'] + pd.DateOffset(months=-3)\n",
    "dates_df['3_month_price'] = dates_df.groupby('vmpp')['price_pence'].transform(lambda x: x.rolling(3, 3).mean())"
   ]
  },
  {
   "cell_type": "code",
   "execution_count": null,
   "metadata": {
    "lines_to_next_cell": 2
   },
   "outputs": [],
   "source": [
    "dates_df_merge = pd.merge(rslt, dates_df[['vmpp','pre_month','3_month_price']],  how='left', left_on=['vmpp','first_month'], right_on = ['vmpp','pre_month'])\n",
    "dates_df_merge.rename(columns={'3_month_price' : 'pre_pc_price'}, inplace=True)\n",
    "#dates_df_merge = pd.merge(dates_df_merge, dates_df[['vmpp','post_month','3_month_price']],  how='left', left_on=['vmpp','last_month'], right_on = ['vmpp','post_month'])"
   ]
  },
  {
   "cell_type": "code",
   "execution_count": null,
   "metadata": {},
   "outputs": [],
   "source": [
    "dates_df_merge = pd.merge(dates_df_merge, dates_df[['vmpp','post_month','3_month_price']],  how='left', left_on=['vmpp','last_month'], right_on = ['vmpp','post_month'])"
   ]
  },
  {
   "cell_type": "code",
   "execution_count": null,
   "metadata": {},
   "outputs": [],
   "source": [
    "dates_df_merge.query('vmpp == 1290011000001107')"
   ]
  },
  {
   "cell_type": "code",
   "execution_count": null,
   "metadata": {},
   "outputs": [],
   "source": []
  },
  {
   "cell_type": "code",
   "execution_count": null,
   "metadata": {},
   "outputs": [],
   "source": []
  },
  {
   "cell_type": "code",
   "execution_count": null,
   "metadata": {},
   "outputs": [],
   "source": []
  },
  {
   "cell_type": "code",
   "execution_count": null,
   "metadata": {},
   "outputs": [],
   "source": [
    "data1 = {'date': ['2019-06-10', '2019-06-11', '2019-06-17', '2019-06-18'], 'age': [20, 21, 19, 18]}\n",
    "\n",
    "data1['date']=pd.to_datetime(data1['date'])\n",
    "\n",
    "df1 = pd.DataFrame(data1)\n",
    "\n",
    "df1.set_index('date', inplace=True)\n",
    "\n",
    "data2 = {'wk start': ['2019-06-10', '2019-06-17', '2019-06-24', '2019-07-02'], 'wk end':[ '2019-06-14', '2019-06-21', '2019-06-28', '2019-07-05'], 'height': [120,121, 119, 118]}\n",
    "\n",
    "data2['wk start']=pd.to_datetime(data2['wk start'])\n",
    "\n",
    "data2['wk end']=pd.to_datetime(data2['wk end'])\n",
    "\n",
    "df2 = pd.DataFrame(data2)\n",
    "\n",
    "# Loop\n",
    "list1 = []\n",
    "for row in df1.iterrows():\n",
    "    subdf = df2[(df2['wk start'] <= index) & (df2['wk end'] >= index)]\n",
    "    list1.append(subdf['height'].tolist()[0])\n",
    "df1['height'] = list1\n",
    "print(df1)"
   ]
  },
  {
   "cell_type": "code",
   "execution_count": null,
   "metadata": {},
   "outputs": [],
   "source": []
  }
 ],
 "metadata": {
  "jupytext": {
   "cell_metadata_filter": "all",
   "notebook_metadata_filter": "all,-language_info",
   "text_representation": {
    "extension": ".py",
    "format_name": "light",
    "format_version": "1.5",
    "jupytext_version": "1.3.3"
   }
  },
  "kernelspec": {
   "display_name": "Python 3",
   "language": "python",
   "name": "python3"
  },
  "language_info": {
   "codemirror_mode": {
    "name": "ipython",
    "version": 3
   },
   "file_extension": ".py",
   "mimetype": "text/x-python",
   "name": "python",
   "nbconvert_exporter": "python",
   "pygments_lexer": "ipython3",
   "version": "3.8.1"
  }
 },
 "nbformat": 4,
 "nbformat_minor": 4
}
