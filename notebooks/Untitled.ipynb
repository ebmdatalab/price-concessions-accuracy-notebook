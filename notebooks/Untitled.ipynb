{
 "cells": [
  {
   "cell_type": "code",
   "execution_count": 2,
   "metadata": {},
   "outputs": [],
   "source": [
    "import os\n",
    "import pandas as pd\n",
    "import numpy as np\n",
    "import matplotlib\n",
    "import matplotlib.pyplot as plt\n",
    "from matplotlib.dates import DateFormatter\n",
    "import matplotlib.ticker as ticker\n",
    "import matplotlib.dates as mdates\n",
    "import seaborn as sns\n",
    "from matplotlib.dates import  DateFormatter\n",
    "%matplotlib inline\n",
    "from ebmdatalab import bq\n",
    "from ebmdatalab import charts\n",
    "from ebmdatalab import maps\n",
    "import datetime"
   ]
  },
  {
   "cell_type": "markdown",
   "metadata": {},
   "source": [
    "find consecutive at least 3 month price concessions"
   ]
  },
  {
   "cell_type": "code",
   "execution_count": 3,
   "metadata": {},
   "outputs": [
    {
     "name": "stdout",
     "output_type": "stream",
     "text": [
      "Please visit this URL to authorize this application: https://accounts.google.com/o/oauth2/auth?response_type=code&client_id=725825577420-unm2gnkiprugilg743tkbig250f4sfsj.apps.googleusercontent.com&redirect_uri=urn%3Aietf%3Awg%3Aoauth%3A2.0%3Aoob&scope=https%3A%2F%2Fwww.googleapis.com%2Fauth%2Fbigquery&state=RZejnwQ5lyqcnmpe139YiNeVhelMb8&prompt=consent&access_type=offline\n"
     ]
    },
    {
     "name": "stdin",
     "output_type": "stream",
     "text": [
      "Enter the authorization code:  4/1ARtbsJpqM5yZLpUWl7IPjaGmK3cxtju7tmMJMcn8w-KGF1S3bVlMNCy4hBc\n"
     ]
    },
    {
     "name": "stderr",
     "output_type": "stream",
     "text": [
      "Downloading: 100%|██████████| 4656/4656 [00:00<00:00, 7804.54rows/s]\n"
     ]
    }
   ],
   "source": [
    "sql = \"\"\"\n",
    "SELECT\n",
    "    ncso.date AS month, --month\n",
    "    ncso.drug AS name,  -- drug name\n",
    "    vmpp.bnf_code AS bnf_code, --BNF code from VMPP table,\n",
    "    vmpp.id AS vmpp_code, \n",
    "    ncso.price_pence AS pc_price_pence, --price concession cost per pack\n",
    "    dt.price_pence AS dt_price_pence, --Drug Tariff cost per pack\n",
    "    qtyval, --VMPP pack size\n",
    "    (ncso.price_pence - dt.price_pence)/qtyval AS increased_ppu --difference between concession and usual Drug Tariff price\n",
    "  FROM\n",
    "    ebmdatalab.dmd.ncsoconcession AS ncso --concession table\n",
    "  INNER JOIN\n",
    "    dmd.vmpp_full AS vmpp --VMPP table\n",
    "  ON\n",
    "    ncso.vmpp = vmpp.id\n",
    "  INNER JOIN\n",
    "    dmd.tariffprice AS dt -- Drug Tariff table\n",
    "  ON\n",
    "    ncso.vmpp = dt.vmpp\n",
    "    AND ncso.date = dt.date\n",
    "  QUALIFY ROW_NUMBER() OVER (PARTITION BY ncso.date, vmpp.bnf_code ORDER BY (ncso.price_pence - dt.price_pence)/qtyval DESC) = 1 -- for each bnf_code and pack size, calculates PPU difference and ranks in order. Takes the top value, therefore only keeping the highest impact pack size, and thereby removes duplicates for pack size\n",
    "  ORDER BY\n",
    "    ncso.date,\n",
    "    vmpp.bnf_code\n",
    "\"\"\"\n",
    "exportfile = os.path.join(\"..\",\"data\",\"pc_df.csv\")\n",
    "pc_df = bq.cached_read(sql, csv_path=exportfile, use_cache=True)\n",
    "pc_df['month'] = pc_df['month'].astype('datetime64[ns]')"
   ]
  },
  {
   "cell_type": "code",
   "execution_count": 8,
   "metadata": {},
   "outputs": [
    {
     "data": {
      "text/html": [
       "<div>\n",
       "<style scoped>\n",
       "    .dataframe tbody tr th:only-of-type {\n",
       "        vertical-align: middle;\n",
       "    }\n",
       "\n",
       "    .dataframe tbody tr th {\n",
       "        vertical-align: top;\n",
       "    }\n",
       "\n",
       "    .dataframe thead th {\n",
       "        text-align: right;\n",
       "    }\n",
       "</style>\n",
       "<table border=\"1\" class=\"dataframe\">\n",
       "  <thead>\n",
       "    <tr style=\"text-align: right;\">\n",
       "      <th></th>\n",
       "      <th>month</th>\n",
       "      <th>name</th>\n",
       "      <th>bnf_code</th>\n",
       "      <th>vmpp_code</th>\n",
       "      <th>pc_price_pence</th>\n",
       "      <th>dt_price_pence</th>\n",
       "      <th>qtyval</th>\n",
       "      <th>increased_ppu</th>\n",
       "    </tr>\n",
       "  </thead>\n",
       "  <tbody>\n",
       "    <tr>\n",
       "      <th>0</th>\n",
       "      <td>2014-08-01</td>\n",
       "      <td>Amiloride 5mg tablets</td>\n",
       "      <td>0202030C0AAACAC</td>\n",
       "      <td>1191111000001100</td>\n",
       "      <td>1950</td>\n",
       "      <td>806</td>\n",
       "      <td>28</td>\n",
       "      <td>40.857142857</td>\n",
       "    </tr>\n",
       "    <tr>\n",
       "      <th>1</th>\n",
       "      <td>2014-08-01</td>\n",
       "      <td>Co-amilofruse 5/40 tablets</td>\n",
       "      <td>0202040B0AAAAAA</td>\n",
       "      <td>1245011000001108</td>\n",
       "      <td>529</td>\n",
       "      <td>104</td>\n",
       "      <td>28</td>\n",
       "      <td>15.178571429</td>\n",
       "    </tr>\n",
       "    <tr>\n",
       "      <th>2</th>\n",
       "      <td>2014-08-01</td>\n",
       "      <td>Co-amilofruse 2.5/20 tablets</td>\n",
       "      <td>0202040B0AAABAB</td>\n",
       "      <td>1122311000001100</td>\n",
       "      <td>432</td>\n",
       "      <td>122</td>\n",
       "      <td>28</td>\n",
       "      <td>11.071428571</td>\n",
       "    </tr>\n",
       "    <tr>\n",
       "      <th>3</th>\n",
       "      <td>2014-08-01</td>\n",
       "      <td>Co-Tenidone 50/12.5mg tablets</td>\n",
       "      <td>020400040AAAAAA</td>\n",
       "      <td>1191711000001104</td>\n",
       "      <td>400</td>\n",
       "      <td>109</td>\n",
       "      <td>28</td>\n",
       "      <td>10.392857143</td>\n",
       "    </tr>\n",
       "    <tr>\n",
       "      <th>4</th>\n",
       "      <td>2014-08-01</td>\n",
       "      <td>Co-Tenidone 100/25mg tablets</td>\n",
       "      <td>020400040AAABAB</td>\n",
       "      <td>1132711000001103</td>\n",
       "      <td>400</td>\n",
       "      <td>123</td>\n",
       "      <td>28</td>\n",
       "      <td>9.892857143</td>\n",
       "    </tr>\n",
       "  </tbody>\n",
       "</table>\n",
       "</div>"
      ],
      "text/plain": [
       "       month                           name         bnf_code  \\\n",
       "0 2014-08-01          Amiloride 5mg tablets  0202030C0AAACAC   \n",
       "1 2014-08-01     Co-amilofruse 5/40 tablets  0202040B0AAAAAA   \n",
       "2 2014-08-01   Co-amilofruse 2.5/20 tablets  0202040B0AAABAB   \n",
       "3 2014-08-01  Co-Tenidone 50/12.5mg tablets  020400040AAAAAA   \n",
       "4 2014-08-01   Co-Tenidone 100/25mg tablets  020400040AAABAB   \n",
       "\n",
       "          vmpp_code  pc_price_pence  dt_price_pence qtyval increased_ppu  \n",
       "0  1191111000001100            1950             806     28  40.857142857  \n",
       "1  1245011000001108             529             104     28  15.178571429  \n",
       "2  1122311000001100             432             122     28  11.071428571  \n",
       "3  1191711000001104             400             109     28  10.392857143  \n",
       "4  1132711000001103             400             123     28   9.892857143  "
      ]
     },
     "execution_count": 8,
     "metadata": {},
     "output_type": "execute_result"
    }
   ],
   "source": [
    "pc_df.head()"
   ]
  },
  {
   "cell_type": "markdown",
   "metadata": {},
   "source": []
  },
  {
   "cell_type": "code",
   "execution_count": 7,
   "metadata": {},
   "outputs": [],
   "source": []
  },
  {
   "cell_type": "code",
   "execution_count": null,
   "metadata": {},
   "outputs": [],
   "source": []
  }
 ],
 "metadata": {
  "jupytext": {
   "cell_metadata_filter": "all",
   "notebook_metadata_filter": "all,-language_info",
   "text_representation": {
    "extension": ".py",
    "format_name": "light",
    "format_version": "1.5",
    "jupytext_version": "1.3.3"
   }
  },
  "kernelspec": {
   "display_name": "Python 3",
   "language": "python",
   "name": "python3"
  },
  "language_info": {
   "codemirror_mode": {
    "name": "ipython",
    "version": 3
   },
   "file_extension": ".py",
   "mimetype": "text/x-python",
   "name": "python",
   "nbconvert_exporter": "python",
   "pygments_lexer": "ipython3",
   "version": "3.8.1"
  }
 },
 "nbformat": 4,
 "nbformat_minor": 4
}
