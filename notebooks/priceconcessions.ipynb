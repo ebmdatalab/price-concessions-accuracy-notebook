{
 "cells": [
  {
   "cell_type": "markdown",
   "metadata": {},
   "source": [
    "# How accurate is the OpenPrescribing Price Concession analysis, and can we improve it?"
   ]
  },
  {
   "cell_type": "markdown",
   "metadata": {},
   "source": [
    "Price Concessions occur when pharmacies are unable to buy stock for the price listed in the Drug Tariff. These higher prices are usually due to stock availability issues.\n",
    "\n",
    "Currently the PSNC and Department of Health agree on a \"price concession\" at points during the month where the items have been dispensed.  This means that people are not able to find out the increased cost before dispensing.\n",
    "\n",
    "OpenPrescribing has a tool which allows an estimate of additional costs to be presented (and emailed) to users, based on a number of assumptions:\n",
    "\n",
    "- As the prescribing data is not available for the period, we use the data which is nearest available, which is usually two months beforehand.\n",
    "- We assume the national average percentage discount is 7.2%\n",
    "\n",
    "As the impact of price concessions are increasing, we thought it was time to undertake an analysis to see if our forecasting methodology was accurate enough for our users.\n"
   ]
  },
  {
   "cell_type": "code",
   "execution_count": 104,
   "metadata": {},
   "outputs": [],
   "source": [
    "import os\n",
    "import pandas as pd\n",
    "import numpy as np\n",
    "#import matplotlib\n",
    "import matplotlib.pyplot as plt\n",
    "from matplotlib.dates import DateFormatter\n",
    "import matplotlib.ticker as ticker\n",
    "import matplotlib.dates as mdates\n",
    "#import seaborn as sns\n",
    "#from matplotlib.dates import  DateFormatter\n",
    "%matplotlib inline\n",
    "from ebmdatalab import bq\n",
    "from ebmdatalab import charts\n",
    "#from ebmdatalab import maps\n",
    "#import datetime as dt"
   ]
  },
  {
   "cell_type": "markdown",
   "metadata": {},
   "source": [
    "We need to import data from BigQuery to undertake the analysis.\n",
    "\n",
    "One of the issues with estimating the costs of price concessions is that the concession is at an individual pack size (or `VMPP`) level, whereas prescribing data is at presentation level, and therefore may have multiple pack sizes involved.  The SQL below includes a process to only select one pack size, and if there is a difference in the cost per unit, selects the one with the highest impact on spend.\n",
    "\n"
   ]
  },
  {
   "cell_type": "markdown",
   "metadata": {},
   "source": [
    "### Import data from BigQuery"
   ]
  },
  {
   "cell_type": "code",
   "execution_count": 105,
   "metadata": {},
   "outputs": [],
   "source": [
    "sql = \"\"\"\n",
    "WITH \n",
    "  price_concession AS (--subquery to remove duplicates due to different pack sizes\n",
    "  SELECT\n",
    "    ncso.date AS month, --month\n",
    "    ncso.drug AS name,  -- drug name\n",
    "    vmpp.bnf_code AS bnf_code, --BNF code from VMPP table\n",
    "    ncso.price_pence AS pc_price_pence, --price concession cost per pack\n",
    "    dt.price_pence AS dt_price_pence, --Drug Tariff cost per pack\n",
    "    qtyval, --VMPP pack size\n",
    "    (ncso.price_pence - dt.price_pence)/qtyval AS increased_ppu --difference between concession and usual Drug Tariff price\n",
    "  FROM\n",
    "    ebmdatalab.dmd.ncsoconcession AS ncso --concession table\n",
    "  INNER JOIN\n",
    "    dmd.vmpp_full AS vmpp --VMPP table\n",
    "  ON\n",
    "    ncso.vmpp = vmpp.id\n",
    "  INNER JOIN\n",
    "    dmd.tariffprice AS dt -- Drug Tariff table\n",
    "  ON\n",
    "    ncso.vmpp = dt.vmpp\n",
    "    AND ncso.date = dt.date\n",
    "  QUALIFY ROW_NUMBER() OVER (PARTITION BY ncso.date, vmpp.bnf_code ORDER BY (ncso.price_pence - dt.price_pence)/qtyval DESC) = 1 -- for each bnf_code and pack size, calculates PPU difference and ranks in order. Takes the top value, therefore only keeping the highest impact pack size, and thereby removes duplicates for pack size\n",
    "  ORDER BY\n",
    "    ncso.date,\n",
    "    vmpp.bnf_code),\n",
    "  rx_data AS (--subquery to create prescribing calculations)\n",
    "  SELECT\n",
    "    rx.month AS month,\n",
    "    bnf_name,\n",
    "    bnf_code AS bnf_code,\n",
    "    SUM(quantity) AS quantity,\n",
    "    SUM(net_cost) AS nic,\n",
    "    SUM(actual_cost) AS actual_cost\n",
    "  FROM\n",
    "    ebmdatalab.hscic.normalised_prescribing AS rx\n",
    "  GROUP BY\n",
    "    rx.month,\n",
    "    bnf_name,\n",
    "    bnf_code)\n",
    "\n",
    "#main query\n",
    "\n",
    "SELECT\n",
    "  rx.month,\n",
    "  rx.bnf_name,\n",
    "  rx.bnf_code,\n",
    "  rx.quantity AS quantity,\n",
    "  rx_old.quantity AS quantity_2_months_previously ,\n",
    "  rx.nic,\n",
    "  rx.actual_cost,\n",
    "  dt_price_pence/(100*qtyval) AS normal_nic_per_unit, --calculates \"normal\" drug tariff price per unit\n",
    "  pc_price_pence/(100*qtyval) AS predicted_nic_per_unit -- calculates price concession predicted cost per unit\n",
    "FROM\n",
    "  rx_data AS rx\n",
    "INNER JOIN\n",
    "  rx_data AS rx_old -- data from two months previously\n",
    "ON\n",
    "  rx.bnf_code = rx_old.bnf_code\n",
    "  AND DATE(rx.month) = DATE_ADD(DATE(rx_old.month), INTERVAL 2 month) -- join to create data from two months ago\n",
    "INNER JOIN\n",
    "  price_concession AS ncso\n",
    "ON\n",
    "  DATE(rx.month) = ncso.month\n",
    "  AND rx.bnf_code = ncso.bnf_code\n",
    "WHERE rx.month >='2017-02-01'\n",
    "ORDER BY\n",
    "  rx.month\n",
    "\"\"\"\n",
    "\n",
    "exportfile = os.path.join(\"..\",\"data\",\"ncso_df.csv\") #defines name for cache file\n",
    "ncso_df = bq.cached_read(sql, csv_path=exportfile, use_cache=True) #uses BQ if changed, otherwise csv cache file\n",
    "ncso_df['month'] = ncso_df['month'].astype('datetime64[ns]') #ensure dates are in datetimeformat\n",
    "ncso_df['normal_nic_per_unit'] = ncso_df['normal_nic_per_unit'].astype(float) #ensure in float format\n",
    "ncso_df['predicted_nic_per_unit'] = ncso_df['predicted_nic_per_unit'].astype(float) #ensure in float format"
   ]
  },
  {
   "cell_type": "markdown",
   "metadata": {},
   "source": [
    "Using the data imported, we can calculate the estimated impact of price concessions, using the same methodology that OpenPrescribing.net uses for initial predictions:\n",
    "- Using a fixed 7.2% [Average National Discount Percentage (NADP)](https://digital.nhs.uk/data-and-information/areas-of-interest/prescribing/practice-level-prescribing-in-england-a-summary/practice-level-prescribing-glossary-of-terms#actual-cost)\n",
    "- Using the latest data available at the time of estimate (usually two months behind)\n",
    "\n",
    "We calculate the costs by multiplying the unit quantity dispensed two months previously by the predicted cost per unit geenerated in the SQL above * 0.928.  This gives us the predicted actual cost, which we then compare to the actual amount spend in that month, and calculate the difference."
   ]
  },
  {
   "cell_type": "code",
   "execution_count": 106,
   "metadata": {},
   "outputs": [],
   "source": [
    "#calculate predicted costs for each drug\n",
    "ncso_df['predicted_actual_cost'] = ncso_df['quantity_2_months_previously'] * ncso_df['predicted_nic_per_unit'] * 0.928 #calculate predicted actual cost - multiply by 0.928 to get actual cost, using 2 months earlier quantity data as a prediction\n",
    "ncso_df['prediction_difference'] = ncso_df['actual_cost'] - ncso_df['predicted_actual_cost'] #calculate difference in costs"
   ]
  },
  {
   "cell_type": "code",
   "execution_count": 107,
   "metadata": {},
   "outputs": [],
   "source": [
    "#create total monthly data\n",
    "ncso_sum_df=ncso_df.groupby(['month',])[['actual_cost','predicted_actual_cost', 'prediction_difference']].sum()  #group data to show total per month\n",
    "ncso_sum_df['perc_difference'] = ncso_sum_df['prediction_difference'] / ncso_sum_df['actual_cost'] #calculate percentage difference\n",
    "ncso_sum_df.sort_values(by=['month']) #sort values by month for chart\n",
    "ncso_sum_df.reset_index(inplace=True)"
   ]
  },
  {
   "cell_type": "code",
   "execution_count": 108,
   "metadata": {},
   "outputs": [
    {
     "data": {
      "text/plain": [
       "Text(0.5, 1.0, 'Percentage difference between forecasted price concession costs and actual spend')"
      ]
     },
     "execution_count": 108,
     "metadata": {},
     "output_type": "execute_result"
    },
    {
     "data": {
      "image/png": "[encoded data removed]",
      "text/plain": [
       "<Figure size 864x432 with 1 Axes>"
      ]
     },
     "metadata": {
      "needs_background": "light"
     },
     "output_type": "display_data"
    }
   ],
   "source": [
    "#create chart\n",
    "ax = ncso_sum_df.plot.bar(figsize = (12,6), y= ['perc_difference'], legend=None)\n",
    "ax.xaxis.set_major_formatter(plt.FixedFormatter(ncso_sum_df['month'].dt.strftime(\"%b %Y\"))) #this formats date as string in desired format for x axis, formats here: https://www.ibm.com/support/knowledgecenter/SS6V3G_5.3.1/com.ibm.help.gswapplintug.doc/GSW_strdate.html\n",
    "ax.yaxis.set_major_formatter(ticker.PercentFormatter(1, decimals=None)) ##sets y axis labels as percent (and formats correctly i.e. x100)\n",
    "ax.set_title('Percentage difference between forecasted price concession costs and actual spend')"
   ]
  },
  {
   "cell_type": "markdown",
   "metadata": {},
   "source": [
    "As we can see from the chart above, on a monthly basis the price concession data is usually accurate to within 5%.  The tool usually *overestimates* (i.e. a negative percentage) in February of each year, due to the difference in working or dispensing days between the actual month and the month used for prediction (December).  "
   ]
  },
  {
   "cell_type": "markdown",
   "metadata": {},
   "source": [
    "### Impact within Financial Year"
   ]
  },
  {
   "cell_type": "markdown",
   "metadata": {},
   "source": [
    "As the tool is mainly used to estimate the impact on finances within the NHS due to price concessions, it is also useful to see how accurate the tool is over the whole of a financial year.  Aggregating the data over a financial year is also a useful way of describe the average accuracy, which will always be flucuating on a monthly basis."
   ]
  },
  {
   "cell_type": "code",
   "execution_count": 109,
   "metadata": {},
   "outputs": [],
   "source": [
    "#create financial year grouping\n",
    "ncso_fy_df = ncso_sum_df.groupby([pd.Grouper(key='month', freq=\"A-MAR\")])[[\"actual_cost\",\"predicted_actual_cost\",\"prediction_difference\"]].sum() #groups by financial year\n",
    "ncso_fy_df['perc_difference'] = ncso_fy_df['prediction_difference'] / ncso_fy_df['actual_cost'] #recalculate percentage difference \n",
    "ncso_fy_df.reset_index(inplace=True)\n",
    "ncso_fy_df = ncso_fy_df.loc[ncso_fy_df[\"month\"].between(\"2017-04-01\", \"2022-03-31\")]\n",
    "ncso_fy_df = ncso_fy_df.reset_index(drop=True)"
   ]
  },
  {
   "cell_type": "code",
   "execution_count": 110,
   "metadata": {},
   "outputs": [
    {
     "data": {
      "text/html": [
       "<style  type=\"text/css\" >\n",
       "</style><table id=\"T_734d5a1c_5395_11ed_9f64_0242ac110002\" ><thead>    <tr>        <th class=\"blank level0\" ></th>        <th class=\"col_heading level0 col0\" >month</th>        <th class=\"col_heading level0 col1\" >actual_cost</th>        <th class=\"col_heading level0 col2\" >predicted_actual_cost</th>        <th class=\"col_heading level0 col3\" >prediction_difference</th>        <th class=\"col_heading level0 col4\" >perc_difference</th>    </tr></thead><tbody>\n",
       "                <tr>\n",
       "                        <th id=\"T_734d5a1c_5395_11ed_9f64_0242ac110002level0_row0\" class=\"row_heading level0 row0\" >0</th>\n",
       "                        <td id=\"T_734d5a1c_5395_11ed_9f64_0242ac110002row0_col0\" class=\"data row0 col0\" >2018-03-31 00:00:00</td>\n",
       "                        <td id=\"T_734d5a1c_5395_11ed_9f64_0242ac110002row0_col1\" class=\"data row0 col1\" >433523479.687450</td>\n",
       "                        <td id=\"T_734d5a1c_5395_11ed_9f64_0242ac110002row0_col2\" class=\"data row0 col2\" >429048911.329842</td>\n",
       "                        <td id=\"T_734d5a1c_5395_11ed_9f64_0242ac110002row0_col3\" class=\"data row0 col3\" >4474568.357608</td>\n",
       "                        <td id=\"T_734d5a1c_5395_11ed_9f64_0242ac110002row0_col4\" class=\"data row0 col4\" >0.010321</td>\n",
       "            </tr>\n",
       "            <tr>\n",
       "                        <th id=\"T_734d5a1c_5395_11ed_9f64_0242ac110002level0_row1\" class=\"row_heading level0 row1\" >1</th>\n",
       "                        <td id=\"T_734d5a1c_5395_11ed_9f64_0242ac110002row1_col0\" class=\"data row1 col0\" >2019-03-31 00:00:00</td>\n",
       "                        <td id=\"T_734d5a1c_5395_11ed_9f64_0242ac110002row1_col1\" class=\"data row1 col1\" >284692780.948200</td>\n",
       "                        <td id=\"T_734d5a1c_5395_11ed_9f64_0242ac110002row1_col2\" class=\"data row1 col2\" >284196072.843485</td>\n",
       "                        <td id=\"T_734d5a1c_5395_11ed_9f64_0242ac110002row1_col3\" class=\"data row1 col3\" >496708.104715</td>\n",
       "                        <td id=\"T_734d5a1c_5395_11ed_9f64_0242ac110002row1_col4\" class=\"data row1 col4\" >0.001745</td>\n",
       "            </tr>\n",
       "            <tr>\n",
       "                        <th id=\"T_734d5a1c_5395_11ed_9f64_0242ac110002level0_row2\" class=\"row_heading level0 row2\" >2</th>\n",
       "                        <td id=\"T_734d5a1c_5395_11ed_9f64_0242ac110002row2_col0\" class=\"data row2 col0\" >2020-03-31 00:00:00</td>\n",
       "                        <td id=\"T_734d5a1c_5395_11ed_9f64_0242ac110002row2_col1\" class=\"data row2 col1\" >209156870.665860</td>\n",
       "                        <td id=\"T_734d5a1c_5395_11ed_9f64_0242ac110002row2_col2\" class=\"data row2 col2\" >197635966.917422</td>\n",
       "                        <td id=\"T_734d5a1c_5395_11ed_9f64_0242ac110002row2_col3\" class=\"data row2 col3\" >11520903.748438</td>\n",
       "                        <td id=\"T_734d5a1c_5395_11ed_9f64_0242ac110002row2_col4\" class=\"data row2 col4\" >0.055083</td>\n",
       "            </tr>\n",
       "            <tr>\n",
       "                        <th id=\"T_734d5a1c_5395_11ed_9f64_0242ac110002level0_row3\" class=\"row_heading level0 row3\" >3</th>\n",
       "                        <td id=\"T_734d5a1c_5395_11ed_9f64_0242ac110002row3_col0\" class=\"data row3 col0\" >2021-03-31 00:00:00</td>\n",
       "                        <td id=\"T_734d5a1c_5395_11ed_9f64_0242ac110002row3_col1\" class=\"data row3 col1\" >248096345.115410</td>\n",
       "                        <td id=\"T_734d5a1c_5395_11ed_9f64_0242ac110002row3_col2\" class=\"data row3 col2\" >245757057.577647</td>\n",
       "                        <td id=\"T_734d5a1c_5395_11ed_9f64_0242ac110002row3_col3\" class=\"data row3 col3\" >2339287.537763</td>\n",
       "                        <td id=\"T_734d5a1c_5395_11ed_9f64_0242ac110002row3_col4\" class=\"data row3 col4\" >0.009429</td>\n",
       "            </tr>\n",
       "            <tr>\n",
       "                        <th id=\"T_734d5a1c_5395_11ed_9f64_0242ac110002level0_row4\" class=\"row_heading level0 row4\" >4</th>\n",
       "                        <td id=\"T_734d5a1c_5395_11ed_9f64_0242ac110002row4_col0\" class=\"data row4 col0\" >2022-03-31 00:00:00</td>\n",
       "                        <td id=\"T_734d5a1c_5395_11ed_9f64_0242ac110002row4_col1\" class=\"data row4 col1\" >153941945.689210</td>\n",
       "                        <td id=\"T_734d5a1c_5395_11ed_9f64_0242ac110002row4_col2\" class=\"data row4 col2\" >151374194.541958</td>\n",
       "                        <td id=\"T_734d5a1c_5395_11ed_9f64_0242ac110002row4_col3\" class=\"data row4 col3\" >2567751.147252</td>\n",
       "                        <td id=\"T_734d5a1c_5395_11ed_9f64_0242ac110002row4_col4\" class=\"data row4 col4\" >0.016680</td>\n",
       "            </tr>\n",
       "    </tbody></table>"
      ],
      "text/plain": [
       "<pandas.io.formats.style.Styler at 0x7f40faea9280>"
      ]
     },
     "execution_count": 110,
     "metadata": {},
     "output_type": "execute_result"
    }
   ],
   "source": [
    "ncso_fy_df.style"
   ]
  },
  {
   "cell_type": "code",
   "execution_count": 126,
   "metadata": {},
   "outputs": [
    {
     "data": {
      "text/plain": [
       "Text(0.5, 1.0, 'Percentage difference between forecasted price concession costs and actual spend (financial year)')"
      ]
     },
     "execution_count": 126,
     "metadata": {},
     "output_type": "execute_result"
    },
    {
     "data": {
      "image/png": "[encoded data removed]",
      "text/plain": [
       "<Figure size 864x432 with 1 Axes>"
      ]
     },
     "metadata": {
      "needs_background": "light"
     },
     "output_type": "display_data"
    }
   ],
   "source": [
    "#create financial year group \n",
    "ax = ncso_fy_df.plot.bar(figsize = (12,6),  y= ['perc_difference'], legend=None)\n",
    "ax.xaxis.set_major_formatter(plt.FixedFormatter(ncso_fy_df['month'].dt.strftime(\"%b %Y\"))) #this formats date as string in desired format for x axis, formats here: https://www.ibm.com/support/knowledgecenter/SS6V3G_5.3.1/com.ibm.help.gswapplintug.doc/GSW_strdate.html\n",
    "ax.yaxis.set_major_formatter(ticker.PercentFormatter(1, decimals=None)) ##sets y axis labels as percent (and formats correctly i.e. x100)\n",
    "ax.set_xlabel(\"Financial Year ending\")\n",
    "ax.set_title('Percentage difference between forecasted price concession costs and actual spend (financial year)')"
   ]
  },
  {
   "cell_type": "markdown",
   "metadata": {},
   "source": [
    "As can be seen from the above, in four out of the five previous financial years the prediction tool correctly estimated within 2%.  The outlying year was 2019-2020, where the underestimation was likely to be due to the significant increase in items in March 2020 due to the onset of the coronavirus pandemic."
   ]
  },
  {
   "cell_type": "markdown",
   "metadata": {},
   "source": [
    "### Can we improve accuracy?"
   ]
  },
  {
   "cell_type": "markdown",
   "metadata": {},
   "source": [
    "Although it would appear that the price concession tool is accurate to usually within 2%, as the predictions are less accurate on a monthly basis, are we able to improve this?"
   ]
  },
  {
   "cell_type": "markdown",
   "metadata": {},
   "source": [
    "#### Use monthly National Average Discount Percentage"
   ]
  },
  {
   "cell_type": "markdown",
   "metadata": {},
   "source": [
    "When the price concessions tool was built a few years ago, we decided to use the NADP that was available at the time (7.2%).  Since then it has fluctuated, and the monthly value (back to 2017) is published on the [NHS BSA website]('https://www.nhsbsa.nhs.uk/prescription-data/understanding-our-data/financial-forecasting').  We can therefore import the data and adjust the prediction calculations accordingly.  We do this in the data below by dividing 7.2% by the actual NADP value, creating a weighting value to adjust the predicted actual cost calculated above."
   ]
  },
  {
   "cell_type": "code",
   "execution_count": 112,
   "metadata": {},
   "outputs": [],
   "source": [
    "#import NADP data (to Aug 2022)\n",
    "importfile = os.path.join(\"..\",\"data\",\"nadp_fixed.csv\") #define the name of the NADP import file\n",
    "nadp_df = pd.read_csv(importfile) #import NADP\n",
    "nadp_df['month'] = nadp_df['month'].astype('datetime64[ns]') #ensure correct date format\n",
    "nadp_df['nadp_weighting'] = (1-(nadp_df['nadp']/100))/0.928 #create weighting of \"true\" weighting for month vs assumed 7.2%\n",
    "ncso_fy_df.reset_index(inplace=True)"
   ]
  },
  {
   "cell_type": "code",
   "execution_count": 113,
   "metadata": {},
   "outputs": [],
   "source": [
    "ncso_sum_df =  ncso_sum_df.merge(nadp_df[[\"month\", \"nadp_weighting\"]]) #add weighting to grouped price concession data"
   ]
  },
  {
   "cell_type": "markdown",
   "metadata": {},
   "source": [
    "#### Weight for difference in days between prediction and actual months"
   ]
  },
  {
   "cell_type": "markdown",
   "metadata": {},
   "source": [
    "As shown above, there are often larger differences between the predicted and actual cost in months that have the most different days, with February being the most obvious.  We can try and weight to change this, by looking at *work days* (Monday-Friday), *dispensing days* (Monday-Saturday), both excluding bank holidays, and work days *including* bank holidays (as patients will tend to pick up prescriptions anyway around Christmas and Easter).  We calculate the number of working and dispensing days below, and apply a weighting to adjust the predicted actual cost."
   ]
  },
  {
   "cell_type": "code",
   "execution_count": 114,
   "metadata": {},
   "outputs": [],
   "source": [
    "#import bank holiday data from gov.uk and pass to busdays function `holidays=[]`\n",
    "url = 'https://www.gov.uk/bank-holidays.json'\n",
    "bh = pd.read_json(url, orient='index')\n",
    "bankhols = pd.json_normalize(bh.iloc[0][\"events\"]) #flattening json in pandas df\n",
    "#calculate the number of working days (Mon-Fri) and dispensing days (Mon-Sat), excluding bank holidays\n",
    "import calendar\n",
    "dates = ncso_df[[\"month\"]].drop_duplicates() # find data from price concession data\n",
    "dates[\"month\"] = pd.to_datetime(dates[\"month\"])\n",
    "dates[\"year\"] = dates[\"month\"].dt.year\n",
    "dates[\"mon\"] = dates[\"month\"].dt.month\n",
    "d = []\n",
    "for row in dates.itertuples():\n",
    "    y = row.year\n",
    "    m = row.mon\n",
    "    day = calendar.monthrange(y,m)[1]\n",
    "    d.append(str(y)+\"-\"+str(m)+\"-\"+str(day))\n",
    "d = pd.Series(d, name=\"enddates\")\n",
    "d = pd.to_datetime(d, format=\"%Y/%m/%d\")\n",
    "begindates = pd.Series(dates[\"month\"]).values.astype('datetime64[D]')\n",
    "enddates = pd.Series(d).values.astype('datetime64[D]') + 1 #busday_count function doesn't include the end day, so you have to add one day to the series.\n",
    "#######\n",
    "# find business days in month\n",
    "dates[\"workdays\"] = np.busday_count(begindates, enddates, weekmask = 'Mon Tue Wed Thu Fri', holidays=bankhols[\"date\"].values.astype('datetime64[D]')) #Mon-Fri, excluding bank holidays\n",
    "dates[\"nobhworkdays\"] =np.busday_count(begindates, enddates, weekmask = 'Mon Tue Wed Thu Fri') #Mon-Fri, including bank holidays\n",
    "dates[\"dispdays\"] = np.busday_count(begindates, enddates, weekmask = 'Mon Tue Wed Thu Fri Sat', holidays=bankhols[\"date\"].values.astype('datetime64[D]'))#Mon-Sat, excluding bank holidays\n",
    "#dates = dates.set_index(pd.DatetimeIndex(dates['month']))\n",
    "dates['workdays_predict_weighting'] = dates['workdays']/dates['workdays'].shift(2) #calculate weighting to apply for workdays, comparing actual month with data used from two months previously\n",
    "dates['nobhworkdays_predict_weighting'] = dates['nobhworkdays']/dates['nobhworkdays'].shift(2) #calculate weighting to apply for workdays, comparing actual month with data used from two months previously\n",
    "dates['dispdays_predict_weighting'] = dates['dispdays']/dates['dispdays'].shift(2) #calculate weighting to apply for dispensing days, comparing actual month with data used from two months previously\n",
    "#dates = dates.set_index('month')\n",
    "dates = dates.sort_values(by=['month']) #sort values by month for chart"
   ]
  },
  {
   "cell_type": "markdown",
   "metadata": {},
   "source": [
    "We can also weight the effect that number of days in a month has by looking at the number of items prescribed in each month in six major chapters of the BNF, and see how it changes throughout the year, using the methodology below.  We are using five years worth of data, ending in February 2020, as the pandemic affected the number of items prescribed per month from March 2020 onwards."
   ]
  },
  {
   "cell_type": "code",
   "execution_count": 115,
   "metadata": {},
   "outputs": [
    {
     "name": "stderr",
     "output_type": "stream",
     "text": [
      "Downloading: 100%|██████████| 12/12 [00:00<00:00, 60.90rows/s]\n"
     ]
    }
   ],
   "source": [
    "#calculate average proportion of prescriptions per monnth in major rx chapters\n",
    "sql = \"\"\"\n",
    "SELECT\n",
    "  EXTRACT (month\n",
    "  FROM\n",
    "    rx.month) AS mon, #create month of the year only\n",
    "  SUM(rx.items /total_rx.total_items)/(1/12) AS proportion #calculate the relative number of prescriptions dispensed in a month, compared with fixed one-twelth\n",
    "FROM\n",
    "  hscic.normalised_prescribing AS rx,\n",
    "  (\n",
    "  SELECT\n",
    "    SUM(items) AS total_items\n",
    "  FROM\n",
    "    hscic.normalised_prescribing\n",
    "  WHERE\n",
    "    month BETWEEN'2016-03-01'\n",
    "    AND '2020-02-01'\n",
    "    AND SUBSTR(bnf_code,0,2) IN ('01',\n",
    "      '02',\n",
    "      '03',\n",
    "      '04',\n",
    "      '06',\n",
    "      '10'))AS total_rx\n",
    "WHERE\n",
    "  month BETWEEN'2016-03-01'\n",
    "  AND '2020-02-01'\n",
    "  AND SUBSTR(bnf_code,0,2) IN ('01',\n",
    "    '02',\n",
    "    '03',\n",
    "    '04',\n",
    "    '06',\n",
    "    '10')\n",
    "GROUP BY\n",
    "  mon\n",
    "\"\"\"\n",
    "\n",
    "exportfile = os.path.join(\"..\",\"data\",\"annual_profile_df.csv\")\n",
    "annual_profile_df = bq.cached_read(sql, csv_path=exportfile, use_cache=False)"
   ]
  },
  {
   "cell_type": "code",
   "execution_count": 116,
   "metadata": {},
   "outputs": [],
   "source": [
    "#add the profile data to the existing date dataframe\n",
    "dates = pd.merge(dates, annual_profile_df, on=[\"mon\"]) #merge the profile data into the dates df\n",
    "dates = dates.set_index('month')\n",
    "dates = dates.sort_values(by=['month']) #sort values by month for chart in order to allow calculation of weighting from 2 months earlier\n",
    "dates['profile_weighting'] = dates['proportion']/dates['proportion'].shift(2) # calculate difference in profile proportions\n",
    "dates.reset_index(inplace=True)"
   ]
  },
  {
   "cell_type": "markdown",
   "metadata": {},
   "source": [
    "### Assessing different weightings on accuracy of price concessions"
   ]
  },
  {
   "cell_type": "markdown",
   "metadata": {},
   "source": [
    "First we need to add the date weighting data to the price concession data"
   ]
  },
  {
   "cell_type": "code",
   "execution_count": 117,
   "metadata": {},
   "outputs": [
    {
     "data": {
      "text/html": [
       "<div>\n",
       "<style scoped>\n",
       "    .dataframe tbody tr th:only-of-type {\n",
       "        vertical-align: middle;\n",
       "    }\n",
       "\n",
       "    .dataframe tbody tr th {\n",
       "        vertical-align: top;\n",
       "    }\n",
       "\n",
       "    .dataframe thead th {\n",
       "        text-align: right;\n",
       "    }\n",
       "</style>\n",
       "<table border=\"1\" class=\"dataframe\">\n",
       "  <thead>\n",
       "    <tr style=\"text-align: right;\">\n",
       "      <th></th>\n",
       "      <th>month</th>\n",
       "      <th>actual_cost</th>\n",
       "      <th>predicted_actual_cost</th>\n",
       "      <th>prediction_difference</th>\n",
       "      <th>perc_difference</th>\n",
       "      <th>nadp_weighting</th>\n",
       "      <th>workdays_predict_weighting</th>\n",
       "      <th>nobhworkdays_predict_weighting</th>\n",
       "      <th>dispdays_predict_weighting</th>\n",
       "      <th>profile_weighting</th>\n",
       "    </tr>\n",
       "  </thead>\n",
       "  <tbody>\n",
       "    <tr>\n",
       "      <th>0</th>\n",
       "      <td>2017-02-01</td>\n",
       "      <td>7.423218e+06</td>\n",
       "      <td>8.383616e+06</td>\n",
       "      <td>-9.603985e+05</td>\n",
       "      <td>-0.129378</td>\n",
       "      <td>0.998599</td>\n",
       "      <td>NaN</td>\n",
       "      <td>NaN</td>\n",
       "      <td>NaN</td>\n",
       "      <td>NaN</td>\n",
       "    </tr>\n",
       "    <tr>\n",
       "      <th>1</th>\n",
       "      <td>2017-03-01</td>\n",
       "      <td>8.696441e+06</td>\n",
       "      <td>8.067864e+06</td>\n",
       "      <td>6.285765e+05</td>\n",
       "      <td>0.072280</td>\n",
       "      <td>0.999138</td>\n",
       "      <td>NaN</td>\n",
       "      <td>NaN</td>\n",
       "      <td>NaN</td>\n",
       "      <td>NaN</td>\n",
       "    </tr>\n",
       "    <tr>\n",
       "      <th>2</th>\n",
       "      <td>2017-04-01</td>\n",
       "      <td>6.301537e+06</td>\n",
       "      <td>6.166398e+06</td>\n",
       "      <td>1.351393e+05</td>\n",
       "      <td>0.021445</td>\n",
       "      <td>0.997629</td>\n",
       "      <td>0.900000</td>\n",
       "      <td>1.0</td>\n",
       "      <td>0.958333</td>\n",
       "      <td>1.047647</td>\n",
       "    </tr>\n",
       "    <tr>\n",
       "      <th>3</th>\n",
       "      <td>2017-05-01</td>\n",
       "      <td>1.235804e+07</td>\n",
       "      <td>1.361402e+07</td>\n",
       "      <td>-1.255981e+06</td>\n",
       "      <td>-0.101633</td>\n",
       "      <td>0.998922</td>\n",
       "      <td>0.913043</td>\n",
       "      <td>1.0</td>\n",
       "      <td>0.925926</td>\n",
       "      <td>1.001955</td>\n",
       "    </tr>\n",
       "    <tr>\n",
       "      <th>4</th>\n",
       "      <td>2017-06-01</td>\n",
       "      <td>3.250022e+07</td>\n",
       "      <td>2.856964e+07</td>\n",
       "      <td>3.930588e+06</td>\n",
       "      <td>0.120940</td>\n",
       "      <td>0.998060</td>\n",
       "      <td>1.222222</td>\n",
       "      <td>1.1</td>\n",
       "      <td>1.130435</td>\n",
       "      <td>1.027525</td>\n",
       "    </tr>\n",
       "  </tbody>\n",
       "</table>\n",
       "</div>"
      ],
      "text/plain": [
       "       month   actual_cost  predicted_actual_cost  prediction_difference  \\\n",
       "0 2017-02-01  7.423218e+06           8.383616e+06          -9.603985e+05   \n",
       "1 2017-03-01  8.696441e+06           8.067864e+06           6.285765e+05   \n",
       "2 2017-04-01  6.301537e+06           6.166398e+06           1.351393e+05   \n",
       "3 2017-05-01  1.235804e+07           1.361402e+07          -1.255981e+06   \n",
       "4 2017-06-01  3.250022e+07           2.856964e+07           3.930588e+06   \n",
       "\n",
       "   perc_difference  nadp_weighting  workdays_predict_weighting  \\\n",
       "0        -0.129378        0.998599                         NaN   \n",
       "1         0.072280        0.999138                         NaN   \n",
       "2         0.021445        0.997629                    0.900000   \n",
       "3        -0.101633        0.998922                    0.913043   \n",
       "4         0.120940        0.998060                    1.222222   \n",
       "\n",
       "   nobhworkdays_predict_weighting  dispdays_predict_weighting  \\\n",
       "0                             NaN                         NaN   \n",
       "1                             NaN                         NaN   \n",
       "2                             1.0                    0.958333   \n",
       "3                             1.0                    0.925926   \n",
       "4                             1.1                    1.130435   \n",
       "\n",
       "   profile_weighting  \n",
       "0                NaN  \n",
       "1                NaN  \n",
       "2           1.047647  \n",
       "3           1.001955  \n",
       "4           1.027525  "
      ]
     },
     "execution_count": 117,
     "metadata": {},
     "output_type": "execute_result"
    }
   ],
   "source": [
    "ncso_sum_df =  ncso_sum_df.merge(dates[[\"month\", \"workdays_predict_weighting\",\"nobhworkdays_predict_weighting\",\"dispdays_predict_weighting\",\"profile_weighting\"]]) #add weighting to grouped price concession data\n",
    "ncso_sum_df.head() #show updated dataframe"
   ]
  },
  {
   "cell_type": "markdown",
   "metadata": {},
   "source": [
    "We now need to see whether the updated NADP improves the prediction further, by calculating the impact of the NADP weighting:"
   ]
  },
  {
   "cell_type": "code",
   "execution_count": 118,
   "metadata": {},
   "outputs": [
    {
     "data": {
      "text/html": [
       "<div>\n",
       "<style scoped>\n",
       "    .dataframe tbody tr th:only-of-type {\n",
       "        vertical-align: middle;\n",
       "    }\n",
       "\n",
       "    .dataframe tbody tr th {\n",
       "        vertical-align: top;\n",
       "    }\n",
       "\n",
       "    .dataframe thead th {\n",
       "        text-align: right;\n",
       "    }\n",
       "</style>\n",
       "<table border=\"1\" class=\"dataframe\">\n",
       "  <thead>\n",
       "    <tr style=\"text-align: right;\">\n",
       "      <th></th>\n",
       "      <th>month</th>\n",
       "      <th>actual_cost</th>\n",
       "      <th>predicted_actual_cost</th>\n",
       "      <th>prediction_difference</th>\n",
       "      <th>perc_difference</th>\n",
       "      <th>nadp_weighting</th>\n",
       "      <th>workdays_predict_weighting</th>\n",
       "      <th>nobhworkdays_predict_weighting</th>\n",
       "      <th>dispdays_predict_weighting</th>\n",
       "      <th>profile_weighting</th>\n",
       "      <th>nadp_predicted_actual_cost</th>\n",
       "      <th>nadp_prediction_difference</th>\n",
       "      <th>nadp_perc_difference</th>\n",
       "    </tr>\n",
       "  </thead>\n",
       "  <tbody>\n",
       "    <tr>\n",
       "      <th>0</th>\n",
       "      <td>2017-02-01</td>\n",
       "      <td>7.423218e+06</td>\n",
       "      <td>8.383616e+06</td>\n",
       "      <td>-9.603985e+05</td>\n",
       "      <td>-0.129378</td>\n",
       "      <td>0.998599</td>\n",
       "      <td>NaN</td>\n",
       "      <td>NaN</td>\n",
       "      <td>NaN</td>\n",
       "      <td>NaN</td>\n",
       "      <td>8.371872e+06</td>\n",
       "      <td>9.486542e+05</td>\n",
       "      <td>0.127796</td>\n",
       "    </tr>\n",
       "    <tr>\n",
       "      <th>1</th>\n",
       "      <td>2017-03-01</td>\n",
       "      <td>8.696441e+06</td>\n",
       "      <td>8.067864e+06</td>\n",
       "      <td>6.285765e+05</td>\n",
       "      <td>0.072280</td>\n",
       "      <td>0.999138</td>\n",
       "      <td>NaN</td>\n",
       "      <td>NaN</td>\n",
       "      <td>NaN</td>\n",
       "      <td>NaN</td>\n",
       "      <td>8.060909e+06</td>\n",
       "      <td>-6.355315e+05</td>\n",
       "      <td>-0.073079</td>\n",
       "    </tr>\n",
       "    <tr>\n",
       "      <th>2</th>\n",
       "      <td>2017-04-01</td>\n",
       "      <td>6.301537e+06</td>\n",
       "      <td>6.166398e+06</td>\n",
       "      <td>1.351393e+05</td>\n",
       "      <td>0.021445</td>\n",
       "      <td>0.997629</td>\n",
       "      <td>0.900000</td>\n",
       "      <td>1.000000</td>\n",
       "      <td>0.958333</td>\n",
       "      <td>1.047647</td>\n",
       "      <td>6.151779e+06</td>\n",
       "      <td>-1.497580e+05</td>\n",
       "      <td>-0.023765</td>\n",
       "    </tr>\n",
       "    <tr>\n",
       "      <th>3</th>\n",
       "      <td>2017-05-01</td>\n",
       "      <td>1.235804e+07</td>\n",
       "      <td>1.361402e+07</td>\n",
       "      <td>-1.255981e+06</td>\n",
       "      <td>-0.101633</td>\n",
       "      <td>0.998922</td>\n",
       "      <td>0.913043</td>\n",
       "      <td>1.000000</td>\n",
       "      <td>0.925926</td>\n",
       "      <td>1.001955</td>\n",
       "      <td>1.359935e+07</td>\n",
       "      <td>1.241311e+06</td>\n",
       "      <td>0.100446</td>\n",
       "    </tr>\n",
       "    <tr>\n",
       "      <th>4</th>\n",
       "      <td>2017-06-01</td>\n",
       "      <td>3.250022e+07</td>\n",
       "      <td>2.856964e+07</td>\n",
       "      <td>3.930588e+06</td>\n",
       "      <td>0.120940</td>\n",
       "      <td>0.998060</td>\n",
       "      <td>1.222222</td>\n",
       "      <td>1.100000</td>\n",
       "      <td>1.130435</td>\n",
       "      <td>1.027525</td>\n",
       "      <td>2.851422e+07</td>\n",
       "      <td>-3.986003e+06</td>\n",
       "      <td>-0.122645</td>\n",
       "    </tr>\n",
       "    <tr>\n",
       "      <th>...</th>\n",
       "      <td>...</td>\n",
       "      <td>...</td>\n",
       "      <td>...</td>\n",
       "      <td>...</td>\n",
       "      <td>...</td>\n",
       "      <td>...</td>\n",
       "      <td>...</td>\n",
       "      <td>...</td>\n",
       "      <td>...</td>\n",
       "      <td>...</td>\n",
       "      <td>...</td>\n",
       "      <td>...</td>\n",
       "      <td>...</td>\n",
       "    </tr>\n",
       "    <tr>\n",
       "      <th>61</th>\n",
       "      <td>2022-03-01</td>\n",
       "      <td>2.180165e+07</td>\n",
       "      <td>2.008474e+07</td>\n",
       "      <td>1.716916e+06</td>\n",
       "      <td>0.078752</td>\n",
       "      <td>1.007759</td>\n",
       "      <td>1.150000</td>\n",
       "      <td>1.095238</td>\n",
       "      <td>1.080000</td>\n",
       "      <td>0.990455</td>\n",
       "      <td>2.024057e+07</td>\n",
       "      <td>-1.561086e+06</td>\n",
       "      <td>-0.071604</td>\n",
       "    </tr>\n",
       "    <tr>\n",
       "      <th>62</th>\n",
       "      <td>2022-04-01</td>\n",
       "      <td>2.083365e+07</td>\n",
       "      <td>1.927074e+07</td>\n",
       "      <td>1.562913e+06</td>\n",
       "      <td>0.075019</td>\n",
       "      <td>1.008297</td>\n",
       "      <td>0.950000</td>\n",
       "      <td>1.050000</td>\n",
       "      <td>1.000000</td>\n",
       "      <td>1.047647</td>\n",
       "      <td>1.943063e+07</td>\n",
       "      <td>-1.403016e+06</td>\n",
       "      <td>-0.067344</td>\n",
       "    </tr>\n",
       "    <tr>\n",
       "      <th>63</th>\n",
       "      <td>2022-05-01</td>\n",
       "      <td>2.502535e+07</td>\n",
       "      <td>2.501500e+07</td>\n",
       "      <td>1.035325e+04</td>\n",
       "      <td>0.000414</td>\n",
       "      <td>1.008082</td>\n",
       "      <td>0.913043</td>\n",
       "      <td>0.956522</td>\n",
       "      <td>0.925926</td>\n",
       "      <td>1.001955</td>\n",
       "      <td>2.521717e+07</td>\n",
       "      <td>1.918154e+05</td>\n",
       "      <td>0.007665</td>\n",
       "    </tr>\n",
       "    <tr>\n",
       "      <th>64</th>\n",
       "      <td>2022-06-01</td>\n",
       "      <td>3.204665e+07</td>\n",
       "      <td>3.080117e+07</td>\n",
       "      <td>1.245479e+06</td>\n",
       "      <td>0.038865</td>\n",
       "      <td>1.008082</td>\n",
       "      <td>1.052632</td>\n",
       "      <td>1.047619</td>\n",
       "      <td>1.000000</td>\n",
       "      <td>1.027525</td>\n",
       "      <td>3.105010e+07</td>\n",
       "      <td>-9.965471e+05</td>\n",
       "      <td>-0.031097</td>\n",
       "    </tr>\n",
       "    <tr>\n",
       "      <th>65</th>\n",
       "      <td>2022-07-01</td>\n",
       "      <td>3.889932e+07</td>\n",
       "      <td>3.993706e+07</td>\n",
       "      <td>-1.037736e+06</td>\n",
       "      <td>-0.026677</td>\n",
       "      <td>1.007543</td>\n",
       "      <td>1.000000</td>\n",
       "      <td>0.954545</td>\n",
       "      <td>1.040000</td>\n",
       "      <td>0.984951</td>\n",
       "      <td>4.023831e+07</td>\n",
       "      <td>1.338986e+06</td>\n",
       "      <td>0.034422</td>\n",
       "    </tr>\n",
       "  </tbody>\n",
       "</table>\n",
       "<p>66 rows × 13 columns</p>\n",
       "</div>"
      ],
      "text/plain": [
       "        month   actual_cost  predicted_actual_cost  prediction_difference  \\\n",
       "0  2017-02-01  7.423218e+06           8.383616e+06          -9.603985e+05   \n",
       "1  2017-03-01  8.696441e+06           8.067864e+06           6.285765e+05   \n",
       "2  2017-04-01  6.301537e+06           6.166398e+06           1.351393e+05   \n",
       "3  2017-05-01  1.235804e+07           1.361402e+07          -1.255981e+06   \n",
       "4  2017-06-01  3.250022e+07           2.856964e+07           3.930588e+06   \n",
       "..        ...           ...                    ...                    ...   \n",
       "61 2022-03-01  2.180165e+07           2.008474e+07           1.716916e+06   \n",
       "62 2022-04-01  2.083365e+07           1.927074e+07           1.562913e+06   \n",
       "63 2022-05-01  2.502535e+07           2.501500e+07           1.035325e+04   \n",
       "64 2022-06-01  3.204665e+07           3.080117e+07           1.245479e+06   \n",
       "65 2022-07-01  3.889932e+07           3.993706e+07          -1.037736e+06   \n",
       "\n",
       "    perc_difference  nadp_weighting  workdays_predict_weighting  \\\n",
       "0         -0.129378        0.998599                         NaN   \n",
       "1          0.072280        0.999138                         NaN   \n",
       "2          0.021445        0.997629                    0.900000   \n",
       "3         -0.101633        0.998922                    0.913043   \n",
       "4          0.120940        0.998060                    1.222222   \n",
       "..              ...             ...                         ...   \n",
       "61         0.078752        1.007759                    1.150000   \n",
       "62         0.075019        1.008297                    0.950000   \n",
       "63         0.000414        1.008082                    0.913043   \n",
       "64         0.038865        1.008082                    1.052632   \n",
       "65        -0.026677        1.007543                    1.000000   \n",
       "\n",
       "    nobhworkdays_predict_weighting  dispdays_predict_weighting  \\\n",
       "0                              NaN                         NaN   \n",
       "1                              NaN                         NaN   \n",
       "2                         1.000000                    0.958333   \n",
       "3                         1.000000                    0.925926   \n",
       "4                         1.100000                    1.130435   \n",
       "..                             ...                         ...   \n",
       "61                        1.095238                    1.080000   \n",
       "62                        1.050000                    1.000000   \n",
       "63                        0.956522                    0.925926   \n",
       "64                        1.047619                    1.000000   \n",
       "65                        0.954545                    1.040000   \n",
       "\n",
       "    profile_weighting  nadp_predicted_actual_cost  nadp_prediction_difference  \\\n",
       "0                 NaN                8.371872e+06                9.486542e+05   \n",
       "1                 NaN                8.060909e+06               -6.355315e+05   \n",
       "2            1.047647                6.151779e+06               -1.497580e+05   \n",
       "3            1.001955                1.359935e+07                1.241311e+06   \n",
       "4            1.027525                2.851422e+07               -3.986003e+06   \n",
       "..                ...                         ...                         ...   \n",
       "61           0.990455                2.024057e+07               -1.561086e+06   \n",
       "62           1.047647                1.943063e+07               -1.403016e+06   \n",
       "63           1.001955                2.521717e+07                1.918154e+05   \n",
       "64           1.027525                3.105010e+07               -9.965471e+05   \n",
       "65           0.984951                4.023831e+07                1.338986e+06   \n",
       "\n",
       "    nadp_perc_difference  \n",
       "0               0.127796  \n",
       "1              -0.073079  \n",
       "2              -0.023765  \n",
       "3               0.100446  \n",
       "4              -0.122645  \n",
       "..                   ...  \n",
       "61             -0.071604  \n",
       "62             -0.067344  \n",
       "63              0.007665  \n",
       "64             -0.031097  \n",
       "65              0.034422  \n",
       "\n",
       "[66 rows x 13 columns]"
      ]
     },
     "execution_count": 118,
     "metadata": {},
     "output_type": "execute_result"
    }
   ],
   "source": [
    "ncso_sum_df[\"nadp_predicted_actual_cost\"] = ncso_sum_df[\"predicted_actual_cost\"] * ncso_sum_df[\"nadp_weighting\"] # calculate the predicted actual cost using NADP weighting\n",
    "ncso_sum_df[\"nadp_prediction_difference\"] = ncso_sum_df[\"nadp_predicted_actual_cost\"] - ncso_sum_df[\"actual_cost\"] # calculate #difference using NADP\n",
    "ncso_sum_df['nadp_perc_difference'] = ncso_sum_df['nadp_prediction_difference'] / ncso_sum_df['actual_cost'] #calculate percentage difference using NADP\n",
    "ncso_sum_df.reset_index(drop=True)"
   ]
  },
  {
   "cell_type": "code",
   "execution_count": 120,
   "metadata": {},
   "outputs": [
    {
     "data": {
      "text/plain": [
       "Text(0.5, 1.0, 'Percentage difference between forecasted price concession costs and actual spend, using NAPD')"
      ]
     },
     "execution_count": 120,
     "metadata": {},
     "output_type": "execute_result"
    },
    {
     "data": {
      "image/png": "[encoded data removed]",
      "text/plain": [
       "<Figure size 864x432 with 1 Axes>"
      ]
     },
     "metadata": {
      "needs_background": "light"
     },
     "output_type": "display_data"
    }
   ],
   "source": [
    "#create chart\n",
    "ax = ncso_sum_df.plot.bar(figsize = (12,6), y= ['perc_difference', 'nadp_perc_difference'], legend=True)\n",
    "ax.xaxis.set_major_formatter(plt.FixedFormatter(ncso_sum_df['month'].dt.strftime(\"%b %Y\"))) #this formats date as string in desired format for x axis, formats here: https://www.ibm.com/support/knowledgecenter/SS6V3G_5.3.1/com.ibm.help.gswapplintug.doc/GSW_strdate.html\n",
    "ax.yaxis.set_major_formatter(ticker.PercentFormatter(1, decimals=None)) ##sets y axis labels as percent (and formats correctly i.e. x100)\n",
    "ax.set_title('Percentage difference between forecasted price concession costs and actual spend, using NAPD')"
   ]
  },
  {
   "cell_type": "code",
   "execution_count": 122,
   "metadata": {},
   "outputs": [],
   "source": [
    "#create financial year grouping\n",
    "ncso_fy_df = ncso_sum_df.groupby([pd.Grouper(key='month', freq=\"A-MAR\")])[[\"actual_cost\",\"predicted_actual_cost\",\"prediction_difference\", \"nadp_predicted_actual_cost\",\"nadp_prediction_difference\"]].sum() #groups by financial year\n",
    "ncso_fy_df['perc_difference'] = ncso_fy_df['prediction_difference'] / ncso_fy_df['actual_cost'] #recalculate percentage difference\n",
    "ncso_fy_df['nadp_perc_difference'] = ncso_fy_df['nadp_prediction_difference'] / ncso_fy_df['actual_cost'] #recalculate percentage difference with NAPD\n",
    "ncso_fy_df.reset_index(inplace=True)\n",
    "ncso_fy_df = ncso_fy_df.loc[ncso_fy_df[\"month\"].between(\"2017-04-01\", \"2022-03-31\")]\n",
    "ncso_fy_df = ncso_fy_df.reset_index(drop=True)"
   ]
  },
  {
   "cell_type": "code",
   "execution_count": 125,
   "metadata": {},
   "outputs": [
    {
     "data": {
      "text/plain": [
       "Text(0.5, 1.0, 'Percentage difference between forecasted price concession costs and actual spend (financial year) NADP')"
      ]
     },
     "execution_count": 125,
     "metadata": {},
     "output_type": "execute_result"
    },
    {
     "data": {
      "image/png": "[encoded data removed]",
      "text/plain": [
       "<Figure size 864x432 with 1 Axes>"
      ]
     },
     "metadata": {
      "needs_background": "light"
     },
     "output_type": "display_data"
    }
   ],
   "source": [
    "#create financial year group \n",
    "ax = ncso_fy_df.plot.bar(figsize = (12,6),  y= ['perc_difference','nadp_perc_difference'], legend=True)\n",
    "ax.xaxis.set_major_formatter(plt.FixedFormatter(ncso_fy_df['month'].dt.strftime(\"%b %Y\"))) #this formats date as string in desired format for x axis, formats here: https://www.ibm.com/support/knowledgecenter/SS6V3G_5.3.1/com.ibm.help.gswapplintug.doc/GSW_strdate.html\n",
    "ax.yaxis.set_major_formatter(ticker.PercentFormatter(1, decimals=None)) ##sets y axis labels as percent (and formats correctly i.e. x100)\n",
    "ax.set_xlabel(\"Financial Year ending\")\n",
    "ax.set_title('Percentage difference between forecasted price concession costs and actual spend (financial year) NADP')"
   ]
  },
  {
   "cell_type": "markdown",
   "metadata": {},
   "source": [
    "We can see from the graph above that there is a *slight* improvement for most financial years by adding in an adjustment for correct NADP, rather than the fixed value we currently use."
   ]
  },
  {
   "cell_type": "markdown",
   "metadata": {},
   "source": [
    "We can now calculate how the different weightings for adjusting for days in the month affect the accuracy of the prediction, using the monthly NADP:"
   ]
  },
  {
   "cell_type": "code",
   "execution_count": 127,
   "metadata": {
    "lines_to_next_cell": 0
   },
   "outputs": [],
   "source": [
    "ncso_sum_df[\"profile_predicted_actual_cost\"] = ncso_sum_df[\"predicted_actual_cost\"] * ncso_sum_df[\"profile_weighting\"]\n",
    "ncso_sum_df[\"profile_prediction_difference\"] = ncso_sum_df[\"profile_predicted_actual_cost\"] - ncso_sum_df[\"actual_cost\"]\n",
    "ncso_sum_df[\"perc_profile_prediction_difference\"] = ncso_sum_df[\"profile_prediction_difference\"] / ncso_sum_df[\"actual_cost\"]\n",
    "\n",
    "ncso_sum_df[\"profile_nadp_predicted_actual_cost\"] = ncso_sum_df[\"predicted_actual_cost\"] * ncso_sum_df[\"nadp_weighting\"] * ncso_sum_df[\"profile_weighting\"]\n",
    "ncso_sum_df[\"profile_nadp_prediction_difference\"] = ncso_sum_df[\"profile_nadp_predicted_actual_cost\"] - ncso_sum_df[\"actual_cost\"]\n",
    "ncso_sum_df[\"perc_profile_nadp_prediction_difference\"] = ncso_sum_df[\"profile_nadp_prediction_difference\"] / ncso_sum_df[\"actual_cost\"]\n",
    "\n",
    "ncso_sum_df[\"dispdays_nadp_predicted_actual_cost\"] = ncso_sum_df[\"predicted_actual_cost\"] * ncso_sum_df[\"nadp_weighting\"] * ncso_sum_df[\"dispdays_predict_weighting\"]\n",
    "ncso_sum_df[\"dispdays_nadp_prediction_difference\"] = ncso_sum_df[\"dispdays_nadp_predicted_actual_cost\"] - ncso_sum_df[\"actual_cost\"]\n",
    "ncso_sum_df[\"perc_dispdays_nadp_prediction_difference\"] = ncso_sum_df[\"dispdays_nadp_prediction_difference\"] / ncso_sum_df[\"actual_cost\"]\n",
    "\n",
    "ncso_sum_df[\"workdays_nadp_predicted_actual_cost\"] = ncso_sum_df[\"predicted_actual_cost\"] * ncso_sum_df[\"nadp_weighting\"] * ncso_sum_df[\"workdays_predict_weighting\"]\n",
    "ncso_sum_df[\"workdays_nadp_prediction_difference\"] = ncso_sum_df[\"workdays_nadp_predicted_actual_cost\"] - ncso_sum_df[\"actual_cost\"]\n",
    "ncso_sum_df[\"perc_workdays_nadp_prediction_difference\"] = ncso_sum_df[\"workdays_nadp_prediction_difference\"] / ncso_sum_df[\"actual_cost\"]\n",
    "\n",
    "ncso_sum_df[\"nobhworkdays_nadp_predicted_actual_cost\"] = ncso_sum_df[\"predicted_actual_cost\"] * ncso_sum_df[\"nadp_weighting\"] * ncso_sum_df[\"nobhworkdays_predict_weighting\"]\n",
    "ncso_sum_df[\"nobhworkdays_nadp_prediction_difference\"] = ncso_sum_df[\"nobhworkdays_nadp_predicted_actual_cost\"] - ncso_sum_df[\"actual_cost\"]\n",
    "ncso_sum_df[\"perc_nobhworkdays_nadp_prediction_difference\"] = ncso_sum_df[\"nobhworkdays_nadp_prediction_difference\"] / ncso_sum_df[\"actual_cost\"]"
   ]
  },
  {
   "cell_type": "code",
   "execution_count": 128,
   "metadata": {},
   "outputs": [],
   "source": [
    "#create financial year grouping\n",
    "ncso_fy_df = ncso_sum_df.groupby([pd.Grouper(key='month', freq=\"A-MAR\")])[[\"actual_cost\",\"predicted_actual_cost\",\"prediction_difference\",\"nadp_predicted_actual_cost\",\"profile_predicted_actual_cost\",\"profile_prediction_difference\",\"profile_nadp_predicted_actual_cost\",\"profile_nadp_prediction_difference\",\"dispdays_nadp_predicted_actual_cost\",\"dispdays_nadp_prediction_difference\",\"workdays_nadp_predicted_actual_cost\",\"workdays_nadp_prediction_difference\",\"nobhworkdays_nadp_predicted_actual_cost\",\"nobhworkdays_nadp_prediction_difference\"]].sum() #groups by financial year\n",
    "ncso_fy_df['perc_difference'] = ncso_fy_df['prediction_difference'] / ncso_fy_df['actual_cost'] #recalculate percentage difference\n",
    "ncso_fy_df['perc_difference_profile'] = ncso_fy_df['profile_prediction_difference'] / ncso_fy_df['actual_cost'] #recalculate percentage difference \n",
    "ncso_fy_df['perc_difference_nadp_profile'] = ncso_fy_df['profile_nadp_prediction_difference'] / ncso_fy_df['actual_cost'] #recalculate percentage difference\n",
    "ncso_fy_df['perc_difference_nadp_dispdays'] = ncso_fy_df['dispdays_nadp_prediction_difference'] / ncso_fy_df['actual_cost'] #recalculate percentage difference \n",
    "ncso_fy_df['perc_difference_nadp_workdays'] = ncso_fy_df['workdays_nadp_prediction_difference'] / ncso_fy_df['actual_cost'] #recalculate percentage difference \n",
    "ncso_fy_df['perc_difference_nadp_nobhworkdays'] = ncso_fy_df['nobhworkdays_nadp_prediction_difference'] / ncso_fy_df['actual_cost'] #recalculate percentage difference \n",
    "ncso_fy_df.reset_index(inplace=True)\n",
    "ncso_fy_df = ncso_fy_df.loc[ncso_fy_df[\"month\"].between(\"2017-04-01\", \"2022-03-31\")]\n",
    "ncso_fy_df = ncso_fy_df.reset_index(drop=True)"
   ]
  },
  {
   "cell_type": "code",
   "execution_count": 129,
   "metadata": {},
   "outputs": [
    {
     "data": {
      "text/plain": [
       "Text(0.5, 1.0, 'Percentage difference between forecasted price concession costs and actual spend (financial year)\\n using different methodologies')"
      ]
     },
     "execution_count": 129,
     "metadata": {},
     "output_type": "execute_result"
    },
    {
     "data": {
      "image/png": "[encoded data removed]",
      "text/plain": [
       "<Figure size 864x432 with 1 Axes>"
      ]
     },
     "metadata": {
      "needs_background": "light"
     },
     "output_type": "display_data"
    }
   ],
   "source": [
    "#create financial year group \n",
    "ax = ncso_fy_df.plot.bar(figsize = (12,6), y= ['perc_difference','perc_difference_profile','perc_difference_nadp_profile', 'perc_difference_nadp_dispdays','perc_difference_nadp_workdays','perc_difference_nadp_nobhworkdays'], legend=True)\n",
    "ax.xaxis.set_major_formatter(plt.FixedFormatter(ncso_fy_df['month'].dt.strftime(\"%b %Y\"))) #this formats date as string in desired format for x axis, formats here: https://www.ibm.com/support/knowledgecenter/SS6V3G_5.3.1/com.ibm.help.gswapplintug.doc/GSW_strdate.html\n",
    "ax.yaxis.set_major_formatter(ticker.PercentFormatter(1, decimals=None)) ##sets y axis labels as percent (and formats correctly i.e. x100)\n",
    "ax.set_xlabel(\"Financial Year ending\")\n",
    "ax.set_title('Percentage difference between forecasted price concession costs and actual spend (financial year)\\n using different methodologies')"
   ]
  },
  {
   "cell_type": "markdown",
   "metadata": {},
   "source": [
    "As you can see above, adjusting for number of days in a month has a minimal impact on the accuracy of the prediction tool.  It appears that using both the NADP profile and the number of working days in the month has the closest prediction.  Financial Year 2019-2020 should be excluded due to the impact of the pandemic in March 2020."
   ]
  },
  {
   "cell_type": "markdown",
   "metadata": {},
   "source": [
    "## Conclusions"
   ]
  },
  {
   "cell_type": "markdown",
   "metadata": {},
   "source": [
    "The OpenPrescribing.net price concessions prediction tool appears to be highly accurate when using the current methodology.  For the previous 5 years this is usually within 2% in a financial year, with 2019-2020 being an outlier for well-documented reasons.\n",
    "2% is certainly accurate enough for planning and awareness in NHS organisations, particularly when the tool is able to identify areas of increased spend as soon as the price concessions have been released on a daily basis.\n",
    "\n",
    "There is the opportunitity to _slightly_ improve the methodology, in two ways:\n",
    "- We should consider using the current monthyl NADP profile, as opposed to the 7.2% fixed value we currently use.  This could be scraped on a monthly basis from the NHSBSA website.\n",
    "- We could consider number of workdays (excluding bank holidays) to further improve the accuracy.  This may require greater redesign of the tool.\n",
    "\n",
    "It's important to note that, given the over 98% accuracy within a financial year, that both of these changes are marginal, and may not be considered a priroity at this time."
   ]
  }
 ],
 "metadata": {
  "jupytext": {
   "cell_metadata_filter": "all",
   "notebook_metadata_filter": "all,-language_info",
   "text_representation": {
    "extension": ".py",
    "format_name": "light",
    "format_version": "1.5",
    "jupytext_version": "1.3.3"
   }
  },
  "kernelspec": {
   "display_name": "Python 3",
   "language": "python",
   "name": "python3"
  },
  "language_info": {
   "codemirror_mode": {
    "name": "ipython",
    "version": 3
   },
   "file_extension": ".py",
   "mimetype": "text/x-python",
   "name": "python",
   "nbconvert_exporter": "python",
   "pygments_lexer": "ipython3",
   "version": "3.8.1"
  }
 },
 "nbformat": 4,
 "nbformat_minor": 4
}
